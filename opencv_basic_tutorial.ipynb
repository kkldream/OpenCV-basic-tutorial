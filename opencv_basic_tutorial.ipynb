{
  "nbformat": 4,
  "nbformat_minor": 0,
  "metadata": {
    "colab": {
      "name": "opencv_basic_tutorial.ipynb",
      "provenance": [],
      "collapsed_sections": [],
      "toc_visible": true
    },
    "kernelspec": {
      "name": "python3",
      "display_name": "Python 3"
    },
    "language_info": {
      "name": "python"
    }
  },
  "cells": [
    {
      "cell_type": "markdown",
      "source": [
        "# 匯入函式庫"
      ],
      "metadata": {
        "id": "5YvUNi0JHmcB"
      }
    },
    {
      "cell_type": "code",
      "execution_count": null,
      "metadata": {
        "id": "NAITXK5WZXh7"
      },
      "outputs": [],
      "source": [
        "import cv2\n",
        "import numpy as np\n",
        "# import mediapipe as mp\n",
        "from google.colab.patches import cv2_imshow\n",
        "# import math"
      ]
    },
    {
      "cell_type": "markdown",
      "source": [
        "# 範例1：讀取顯示照片"
      ],
      "metadata": {
        "id": "CwJWsPfUHqy7"
      }
    },
    {
      "cell_type": "code",
      "source": [
        "img = cv2.imread('dog.jpg') #讀取圖片\n",
        "cv2_imshow(img) #顯示圖片\n",
        "\n",
        "img_resize = cv2.resize(img, (300, 300)) #縮放\n",
        "cv2_imshow(img_resize)\n",
        "\n",
        "img_flip = cv2.flip(img, 1) #水平鏡像\n",
        "cv2_imshow(img_flip)\n",
        "\n",
        "img_crop = img[100:200, 150:350] #裁切\n",
        "cv2_imshow(img_crop)"
      ],
      "metadata": {
        "id": "DKINy1XdP9El"
      },
      "execution_count": null,
      "outputs": []
    },
    {
      "cell_type": "markdown",
      "source": [
        "# 範例3：加入線條圖案文字"
      ],
      "metadata": {
        "id": "s_e8EE8AHwPW"
      }
    },
    {
      "cell_type": "code",
      "source": [
        "img = cv2.imread('dog.jpg') #讀取圖片\n",
        "print(img.shape)\n",
        "\n",
        "for i in [(10, 20), (510, 20), (10, 580), (500, 580)]:\n",
        "  #cv2.putText(影像, 文字, 座標, 字型, 大小, 顏色, 線條寬度, 線條種類)\n",
        "  cv2.putText(img, str(i), i, cv2.FONT_HERSHEY_DUPLEX, 0.5, (255, 0, 0), 1, cv2.LINE_AA)\n",
        "\n",
        "#cv2.line(影像, 開始座標, 結束座標, 顏色, 線條寬度)\n",
        "cv2.line(img, (300, 100), (500, 500), (0, 0, 255), 3)\n",
        "\n",
        "#cv2.rectangle(影像, 頂點座標, 對向頂點座標, 顏色, 線條寬度)\n",
        "cv2.rectangle(img, (20, 60), (120, 160), (0, 255, 0), 2)\n",
        "cv2.rectangle(img, (140, 180), (200, 240), (0, 255, 0), -1)\n",
        "\n",
        "#cv2.circle(影像, 圓心座標, 半徑, 顏色, 線條寬度)\n",
        "cv2.circle(img,(300, 410), 30, (0, 255, 255), 3)\n",
        "cv2.circle(img,(390, 410), 15, (255, 0, 0), -1)\n",
        "\n",
        "cv2_imshow(img) #顯示圖片"
      ],
      "metadata": {
        "id": "UZUpjdBSQfbq"
      },
      "execution_count": null,
      "outputs": []
    },
    {
      "cell_type": "markdown",
      "source": [
        "# 範例4：影像處理"
      ],
      "metadata": {
        "id": "O-R5kPoNHyy1"
      }
    },
    {
      "cell_type": "code",
      "source": [
        "img = cv2.imread('road.jpg') #讀取圖片\n",
        "print(img.shape)\n",
        "cv2_imshow(img) #顯示圖片\n",
        "\n",
        "light = np.uint8(np.clip((1.5 * img + 100), 0, 255)) #調亮\n",
        "cv2_imshow(light)\n",
        "\n",
        "grey = cv2.cvtColor(img, cv2.COLOR_BGR2GRAY) #轉灰階\n",
        "cv2_imshow(grey)\n",
        "\n",
        "kernel = np.array(( #浮雕\n",
        "        [-2, -1, 0],\n",
        "        [-1, 1, 1],\n",
        "        [0, 1, 2]))\n",
        "emboss = cv2.filter2D(grey, -1, kernel)\n",
        "cv2_imshow(emboss)\n",
        "\n",
        "kernel = np.array(( #垂直邊緣\n",
        "        [1, 0, -1],\n",
        "        [2, 0, -2],\n",
        "        [1, 0, -1]))\n",
        "edge_convolution = cv2.filter2D(grey, -1, kernel)\n",
        "cv2_imshow(edge_convolution)\n",
        "\n",
        "edge = cv2.Canny(grey, 100, 200) #Canny邊緣檢測\n",
        "cv2_imshow(edge)"
      ],
      "metadata": {
        "id": "icPohhuNREon"
      },
      "execution_count": null,
      "outputs": []
    },
    {
      "cell_type": "markdown",
      "source": [
        "# 範例5：人臉照片辨識"
      ],
      "metadata": {
        "id": "-pwHF4UGH25i"
      }
    },
    {
      "cell_type": "code",
      "source": [
        "cascade = cv2.CascadeClassifier('haarcascade_frontalface_default.xml') #載入特徵分類器\n",
        "img = cv2.imread('face.jpg') #讀取照片\n",
        "grey = cv2.cvtColor(img, cv2.COLOR_BGR2GRAY) #色彩轉灰階\n",
        "faceRects = cascade.detectMultiScale(grey, scaleFactor = 1.3, minNeighbors = 5) #開始辨識\n",
        "for faceRect in faceRects: #依序框起來\n",
        "  x, y, w, h = faceRect        \n",
        "  cv2.rectangle(img, (x, y), (x + w, y + h), (255, 0, 0), 2)\n",
        "cv2_imshow(img) #顯示照片"
      ],
      "metadata": {
        "id": "u5FFpCq3Re6G"
      },
      "execution_count": null,
      "outputs": []
    },
    {
      "cell_type": "markdown",
      "source": [
        "# 範例8：小應用-人臉辨識 Thug Life"
      ],
      "metadata": {
        "id": "I95rOay1H6GA"
      }
    },
    {
      "cell_type": "code",
      "source": [
        "def chromaKey(backgroud, image, pos): #去背合成\n",
        "  mask = cv2.inRange(image, (200, 200, 200), (255, 255, 255))\n",
        "  mask_height, mask_width = mask.shape\n",
        "  backgroud_height, backgroud_width, backgroud_channels = backgroud.shape\n",
        "  for i in range(mask_height):\n",
        "    for j in range(mask_width):\n",
        "      if mask[i][j] == 0 and i+pos[1] < backgroud_height and j+pos[0] < backgroud_width:\n",
        "        backgroud[i+pos[1],j+pos[0],:] = image[i,j,:]\n",
        "  return backgroud\n",
        "\n",
        "cascade = cv2.CascadeClassifier('haarcascade_frontalface_default.xml') #載入特徵分類器\n",
        "frame = cv2.imread('face.jpg') #讀取照片\n",
        "glasses = cv2.imread('thug_life.jpg') #讀取照片\n",
        "grey = cv2.cvtColor(frame, cv2.COLOR_BGR2GRAY) #色彩轉灰階\n",
        "faceRects = cascade.detectMultiScale(grey, scaleFactor = 1.35, minNeighbors = 3) #開始辨識\n",
        "for faceRect in faceRects: #依序框起來\n",
        "  x, y, w, h = faceRect\n",
        "  glasses_resize = cv2.resize(glasses, (w, h)) #縮放\n",
        "  # cv2.rectangle(frame, (x, y), (x + w, y + h), (255, 0, 0), 2)\n",
        "  frame = chromaKey(frame.copy(), glasses_resize, (x, y))\n",
        "cv2_imshow(frame)"
      ],
      "metadata": {
        "id": "Vt9iCpHzRw82"
      },
      "execution_count": null,
      "outputs": []
    },
    {
      "cell_type": "markdown",
      "source": [
        "# 練習題"
      ],
      "metadata": {
        "id": "_bX9OUEBH-zZ"
      }
    },
    {
      "cell_type": "code",
      "source": [
        "# 馬賽克函式\n",
        "# input:\n",
        "#   img: 輸入圖像\n",
        "#   bbox: 座標位置(x, y, w, h)，必須為整數\n",
        "#   size: 馬賽克程度\n",
        "# output: 輸出圖像\n",
        "\n",
        "def mosaic_effect(img, bbox, size=10):\n",
        "  x, y, w, h = bbox\n",
        "  new_img = img.copy()\n",
        "  for m in range(y, y+h):\n",
        "    for n in range(x, x+w):\n",
        "      if m % size == 0 and n % size == 0:\n",
        "        for i in range(0, size):\n",
        "          for j in range(0, size):\n",
        "            (b, g, r) = new_img[m, n]\n",
        "            new_img[i + m, j + n] = (b, g, r)\n",
        "  return new_img"
      ],
      "metadata": {
        "id": "fkJOkWGKFJSx"
      },
      "execution_count": null,
      "outputs": []
    },
    {
      "cell_type": "code",
      "source": [
        "cascade = cv2.CascadeClassifier('haarcascade_frontalface_default.xml') #載入特徵分類器\n",
        "img = cv2.imread('face.jpg') #讀取照片\n",
        "grey = cv2.cvtColor(img, cv2.COLOR_BGR2GRAY) #色彩轉灰階\n",
        "faceRects = cascade.detectMultiScale(grey, scaleFactor = 1.3, minNeighbors = 5) #開始辨識\n",
        "for faceRect in faceRects: #依序框起來\n",
        "  x, y, w, h = faceRect        \n",
        "  cv2.rectangle(img, (x, y), (x + w, y + h), (255, 0, 0), 2)\n",
        "cv2_imshow(img) #顯示照片"
      ],
      "metadata": {
        "id": "IBt9-rB0E63l"
      },
      "execution_count": null,
      "outputs": []
    }
  ]
}